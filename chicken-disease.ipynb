{
 "cells": [
  {
   "cell_type": "code",
   "execution_count": 1,
   "id": "4b1d7c3c",
   "metadata": {
    "execution": {
     "iopub.execute_input": "2023-11-23T13:48:51.394940Z",
     "iopub.status.busy": "2023-11-23T13:48:51.394518Z",
     "iopub.status.idle": "2023-11-23T13:48:51.404809Z",
     "shell.execute_reply": "2023-11-23T13:48:51.403918Z"
    },
    "papermill": {
     "duration": 0.021385,
     "end_time": "2023-11-23T13:48:51.406862",
     "exception": false,
     "start_time": "2023-11-23T13:48:51.385477",
     "status": "completed"
    },
    "tags": []
   },
   "outputs": [],
   "source": [
    "import warnings\n",
    "warnings.filterwarnings('ignore')"
   ]
  },
  {
   "cell_type": "code",
   "execution_count": 2,
   "id": "dfb81374",
   "metadata": {
    "execution": {
     "iopub.execute_input": "2023-11-23T13:48:51.421233Z",
     "iopub.status.busy": "2023-11-23T13:48:51.420975Z",
     "iopub.status.idle": "2023-11-23T13:49:05.192368Z",
     "shell.execute_reply": "2023-11-23T13:49:05.191510Z"
    },
    "papermill": {
     "duration": 13.781192,
     "end_time": "2023-11-23T13:49:05.194807",
     "exception": false,
     "start_time": "2023-11-23T13:48:51.413615",
     "status": "completed"
    },
    "tags": []
   },
   "outputs": [],
   "source": [
    "import numpy as np\n",
    "import pandas as pd\n",
    "import tensorflow as tf"
   ]
  },
  {
   "cell_type": "code",
   "execution_count": 3,
   "id": "e7639fe4",
   "metadata": {
    "execution": {
     "iopub.execute_input": "2023-11-23T13:49:05.209984Z",
     "iopub.status.busy": "2023-11-23T13:49:05.209406Z",
     "iopub.status.idle": "2023-11-23T13:49:05.238627Z",
     "shell.execute_reply": "2023-11-23T13:49:05.237838Z"
    },
    "papermill": {
     "duration": 0.038943,
     "end_time": "2023-11-23T13:49:05.240662",
     "exception": false,
     "start_time": "2023-11-23T13:49:05.201719",
     "status": "completed"
    },
    "tags": []
   },
   "outputs": [],
   "source": [
    "data = pd.read_csv(\"/kaggle/input/chicken-disease-1/train_data.csv\")"
   ]
  },
  {
   "cell_type": "code",
   "execution_count": 4,
   "id": "6a8ea0f3",
   "metadata": {
    "execution": {
     "iopub.execute_input": "2023-11-23T13:49:05.254673Z",
     "iopub.status.busy": "2023-11-23T13:49:05.254360Z",
     "iopub.status.idle": "2023-11-23T13:49:05.285480Z",
     "shell.execute_reply": "2023-11-23T13:49:05.284371Z"
    },
    "papermill": {
     "duration": 0.040671,
     "end_time": "2023-11-23T13:49:05.287845",
     "exception": false,
     "start_time": "2023-11-23T13:49:05.247174",
     "status": "completed"
    },
    "tags": []
   },
   "outputs": [
    {
     "name": "stdout",
     "output_type": "stream",
     "text": [
      "<class 'pandas.core.frame.DataFrame'>\n",
      "RangeIndex: 8067 entries, 0 to 8066\n",
      "Data columns (total 2 columns):\n",
      " #   Column  Non-Null Count  Dtype \n",
      "---  ------  --------------  ----- \n",
      " 0   images  8067 non-null   object\n",
      " 1   label   8067 non-null   object\n",
      "dtypes: object(2)\n",
      "memory usage: 126.2+ KB\n"
     ]
    }
   ],
   "source": [
    "data.info()"
   ]
  },
  {
   "cell_type": "code",
   "execution_count": 5,
   "id": "f072b043",
   "metadata": {
    "execution": {
     "iopub.execute_input": "2023-11-23T13:49:05.304664Z",
     "iopub.status.busy": "2023-11-23T13:49:05.304352Z",
     "iopub.status.idle": "2023-11-23T13:49:05.316669Z",
     "shell.execute_reply": "2023-11-23T13:49:05.315803Z"
    },
    "papermill": {
     "duration": 0.0229,
     "end_time": "2023-11-23T13:49:05.318728",
     "exception": false,
     "start_time": "2023-11-23T13:49:05.295828",
     "status": "completed"
    },
    "tags": []
   },
   "outputs": [
    {
     "data": {
      "text/html": [
       "<div>\n",
       "<style scoped>\n",
       "    .dataframe tbody tr th:only-of-type {\n",
       "        vertical-align: middle;\n",
       "    }\n",
       "\n",
       "    .dataframe tbody tr th {\n",
       "        vertical-align: top;\n",
       "    }\n",
       "\n",
       "    .dataframe thead th {\n",
       "        text-align: right;\n",
       "    }\n",
       "</style>\n",
       "<table border=\"1\" class=\"dataframe\">\n",
       "  <thead>\n",
       "    <tr style=\"text-align: right;\">\n",
       "      <th></th>\n",
       "      <th>images</th>\n",
       "      <th>label</th>\n",
       "    </tr>\n",
       "  </thead>\n",
       "  <tbody>\n",
       "    <tr>\n",
       "      <th>0</th>\n",
       "      <td>salmo.1558.jpg</td>\n",
       "      <td>Salmonella</td>\n",
       "    </tr>\n",
       "    <tr>\n",
       "      <th>1</th>\n",
       "      <td>cocci.1866.jpg</td>\n",
       "      <td>Coccidiosis</td>\n",
       "    </tr>\n",
       "    <tr>\n",
       "      <th>2</th>\n",
       "      <td>cocci.171.jpg</td>\n",
       "      <td>Coccidiosis</td>\n",
       "    </tr>\n",
       "    <tr>\n",
       "      <th>3</th>\n",
       "      <td>salmo.1484.jpg</td>\n",
       "      <td>Salmonella</td>\n",
       "    </tr>\n",
       "    <tr>\n",
       "      <th>4</th>\n",
       "      <td>ncd.100.jpg</td>\n",
       "      <td>New Castle Disease</td>\n",
       "    </tr>\n",
       "  </tbody>\n",
       "</table>\n",
       "</div>"
      ],
      "text/plain": [
       "           images               label\n",
       "0  salmo.1558.jpg          Salmonella\n",
       "1  cocci.1866.jpg         Coccidiosis\n",
       "2   cocci.171.jpg         Coccidiosis\n",
       "3  salmo.1484.jpg          Salmonella\n",
       "4     ncd.100.jpg  New Castle Disease"
      ]
     },
     "execution_count": 5,
     "metadata": {},
     "output_type": "execute_result"
    }
   ],
   "source": [
    "data.head()"
   ]
  },
  {
   "cell_type": "code",
   "execution_count": 6,
   "id": "46586b10",
   "metadata": {
    "execution": {
     "iopub.execute_input": "2023-11-23T13:49:05.334431Z",
     "iopub.status.busy": "2023-11-23T13:49:05.333808Z",
     "iopub.status.idle": "2023-11-23T13:49:05.342796Z",
     "shell.execute_reply": "2023-11-23T13:49:05.341923Z"
    },
    "papermill": {
     "duration": 0.019058,
     "end_time": "2023-11-23T13:49:05.344914",
     "exception": false,
     "start_time": "2023-11-23T13:49:05.325856",
     "status": "completed"
    },
    "tags": []
   },
   "outputs": [
    {
     "data": {
      "text/plain": [
       "label\n",
       "Salmonella            2625\n",
       "Coccidiosis           2476\n",
       "Healthy               2404\n",
       "New Castle Disease     562\n",
       "Name: count, dtype: int64"
      ]
     },
     "execution_count": 6,
     "metadata": {},
     "output_type": "execute_result"
    }
   ],
   "source": [
    "data['label'].value_counts()"
   ]
  },
  {
   "cell_type": "code",
   "execution_count": 7,
   "id": "fbc05591",
   "metadata": {
    "execution": {
     "iopub.execute_input": "2023-11-23T13:49:05.360208Z",
     "iopub.status.busy": "2023-11-23T13:49:05.359936Z",
     "iopub.status.idle": "2023-11-23T13:50:06.546728Z",
     "shell.execute_reply": "2023-11-23T13:50:06.545808Z"
    },
    "papermill": {
     "duration": 61.197013,
     "end_time": "2023-11-23T13:50:06.549306",
     "exception": false,
     "start_time": "2023-11-23T13:49:05.352293",
     "status": "completed"
    },
    "tags": []
   },
   "outputs": [],
   "source": [
    "import os\n",
    "import cv2\n",
    "\n",
    "directory = \"/kaggle/input/chicken-disease-1/Train\"\n",
    "\n",
    "def load_images_from_folder(folder):\n",
    "    images = []\n",
    "    for filename in os.listdir(folder):\n",
    "        if filename.endswith('.jpg'):\n",
    "            img = cv2.imread(os.path.join(folder, filename))\n",
    "            if img is not None:\n",
    "                images.append(img)\n",
    "            else:\n",
    "                continue\n",
    "    return images\n",
    "\n",
    "\n",
    "images = load_images_from_folder(directory)"
   ]
  },
  {
   "cell_type": "code",
   "execution_count": 8,
   "id": "916d5aa0",
   "metadata": {
    "execution": {
     "iopub.execute_input": "2023-11-23T13:50:06.566109Z",
     "iopub.status.busy": "2023-11-23T13:50:06.565821Z",
     "iopub.status.idle": "2023-11-23T13:50:07.001296Z",
     "shell.execute_reply": "2023-11-23T13:50:07.000399Z"
    },
    "papermill": {
     "duration": 0.446612,
     "end_time": "2023-11-23T13:50:07.003737",
     "exception": false,
     "start_time": "2023-11-23T13:50:06.557125",
     "status": "completed"
    },
    "tags": []
   },
   "outputs": [],
   "source": [
    "images = np.array(images)"
   ]
  },
  {
   "cell_type": "code",
   "execution_count": 9,
   "id": "97fff416",
   "metadata": {
    "execution": {
     "iopub.execute_input": "2023-11-23T13:50:07.020266Z",
     "iopub.status.busy": "2023-11-23T13:50:07.019666Z",
     "iopub.status.idle": "2023-11-23T13:50:07.025585Z",
     "shell.execute_reply": "2023-11-23T13:50:07.024689Z"
    },
    "papermill": {
     "duration": 0.016151,
     "end_time": "2023-11-23T13:50:07.027534",
     "exception": false,
     "start_time": "2023-11-23T13:50:07.011383",
     "status": "completed"
    },
    "tags": []
   },
   "outputs": [
    {
     "data": {
      "text/plain": [
       "(224, 224, 3)"
      ]
     },
     "execution_count": 9,
     "metadata": {},
     "output_type": "execute_result"
    }
   ],
   "source": [
    "images[0].shape"
   ]
  },
  {
   "cell_type": "code",
   "execution_count": 10,
   "id": "fdf34a79",
   "metadata": {
    "execution": {
     "iopub.execute_input": "2023-11-23T13:50:07.042411Z",
     "iopub.status.busy": "2023-11-23T13:50:07.042145Z",
     "iopub.status.idle": "2023-11-23T13:50:07.758344Z",
     "shell.execute_reply": "2023-11-23T13:50:07.757366Z"
    },
    "papermill": {
     "duration": 0.726028,
     "end_time": "2023-11-23T13:50:07.760683",
     "exception": false,
     "start_time": "2023-11-23T13:50:07.034655",
     "status": "completed"
    },
    "tags": []
   },
   "outputs": [],
   "source": [
    "from sklearn.preprocessing import OrdinalEncoder\n",
    "\n",
    "encoder = OrdinalEncoder()\n",
    "data[['label']] = encoder.fit_transform(data[['label']])\n",
    "#data['label'] = data['label'].astype(int)"
   ]
  },
  {
   "cell_type": "code",
   "execution_count": 11,
   "id": "8f7bebd7",
   "metadata": {
    "execution": {
     "iopub.execute_input": "2023-11-23T13:50:07.777410Z",
     "iopub.status.busy": "2023-11-23T13:50:07.777141Z",
     "iopub.status.idle": "2023-11-23T13:50:07.786205Z",
     "shell.execute_reply": "2023-11-23T13:50:07.785320Z"
    },
    "papermill": {
     "duration": 0.019612,
     "end_time": "2023-11-23T13:50:07.788251",
     "exception": false,
     "start_time": "2023-11-23T13:50:07.768639",
     "status": "completed"
    },
    "tags": []
   },
   "outputs": [
    {
     "data": {
      "text/plain": [
       "0       3.0\n",
       "1       0.0\n",
       "2       0.0\n",
       "3       3.0\n",
       "4       2.0\n",
       "       ... \n",
       "8062    1.0\n",
       "8063    3.0\n",
       "8064    2.0\n",
       "8065    3.0\n",
       "8066    1.0\n",
       "Name: label, Length: 8067, dtype: float64"
      ]
     },
     "execution_count": 11,
     "metadata": {},
     "output_type": "execute_result"
    }
   ],
   "source": [
    "data['label']"
   ]
  },
  {
   "cell_type": "code",
   "execution_count": 12,
   "id": "6005d6d9",
   "metadata": {
    "execution": {
     "iopub.execute_input": "2023-11-23T13:50:07.804113Z",
     "iopub.status.busy": "2023-11-23T13:50:07.803812Z",
     "iopub.status.idle": "2023-11-23T13:50:07.809590Z",
     "shell.execute_reply": "2023-11-23T13:50:07.808606Z"
    },
    "papermill": {
     "duration": 0.0162,
     "end_time": "2023-11-23T13:50:07.811936",
     "exception": false,
     "start_time": "2023-11-23T13:50:07.795736",
     "status": "completed"
    },
    "tags": []
   },
   "outputs": [],
   "source": [
    "labels = data['label'].tolist()\n",
    "labels = np.array(labels)\n",
    "labels = labels.flatten()"
   ]
  },
  {
   "cell_type": "code",
   "execution_count": 13,
   "id": "373ecfa2",
   "metadata": {
    "execution": {
     "iopub.execute_input": "2023-11-23T13:50:07.829208Z",
     "iopub.status.busy": "2023-11-23T13:50:07.828891Z",
     "iopub.status.idle": "2023-11-23T13:50:08.180412Z",
     "shell.execute_reply": "2023-11-23T13:50:08.179595Z"
    },
    "papermill": {
     "duration": 0.362536,
     "end_time": "2023-11-23T13:50:08.183020",
     "exception": false,
     "start_time": "2023-11-23T13:50:07.820484",
     "status": "completed"
    },
    "tags": []
   },
   "outputs": [],
   "source": [
    "from sklearn.utils import shuffle\n",
    "images , labels = shuffle(images , labels)"
   ]
  },
  {
   "cell_type": "code",
   "execution_count": 14,
   "id": "1c460cad",
   "metadata": {
    "execution": {
     "iopub.execute_input": "2023-11-23T13:50:08.199018Z",
     "iopub.status.busy": "2023-11-23T13:50:08.198713Z",
     "iopub.status.idle": "2023-11-23T13:50:08.652311Z",
     "shell.execute_reply": "2023-11-23T13:50:08.651253Z"
    },
    "papermill": {
     "duration": 0.464097,
     "end_time": "2023-11-23T13:50:08.654780",
     "exception": false,
     "start_time": "2023-11-23T13:50:08.190683",
     "status": "completed"
    },
    "tags": []
   },
   "outputs": [],
   "source": [
    "from sklearn.model_selection import train_test_split\n",
    "X_train , X_valid , y_train , y_valid = train_test_split(images , labels ,test_size=0.2,random_state=42)"
   ]
  },
  {
   "cell_type": "code",
   "execution_count": 15,
   "id": "79c175dd",
   "metadata": {
    "execution": {
     "iopub.execute_input": "2023-11-23T13:50:08.671188Z",
     "iopub.status.busy": "2023-11-23T13:50:08.670898Z",
     "iopub.status.idle": "2023-11-23T13:50:13.401241Z",
     "shell.execute_reply": "2023-11-23T13:50:13.399951Z"
    },
    "papermill": {
     "duration": 4.741856,
     "end_time": "2023-11-23T13:50:13.404375",
     "exception": false,
     "start_time": "2023-11-23T13:50:08.662519",
     "status": "completed"
    },
    "tags": []
   },
   "outputs": [],
   "source": [
    "tf.random.set_seed(42)\n",
    "tf.keras.backend.clear_session()\n",
    "\n",
    "from functools import partial\n",
    "\n",
    "DefaultConv2D = partial(tf.keras.layers.Conv2D, kernel_size=3, padding=\"same\",\n",
    "                        activation=\"relu\", kernel_initializer=\"he_normal\")\n",
    "model = tf.keras.Sequential([\n",
    "    DefaultConv2D(filters=64, kernel_size=7, input_shape=[224, 224, 3]),\n",
    "    tf.keras.layers.MaxPool2D(),\n",
    "    DefaultConv2D(filters=128),\n",
    "    DefaultConv2D(filters=128),\n",
    "    tf.keras.layers.MaxPool2D(),\n",
    "    DefaultConv2D(filters=256),\n",
    "    DefaultConv2D(filters=256),\n",
    "    tf.keras.layers.MaxPool2D(),\n",
    "    tf.keras.layers.Flatten(),\n",
    "    tf.keras.layers.Dense(units=128, activation=\"relu\",\n",
    "                          kernel_initializer=\"he_normal\"),\n",
    "    tf.keras.layers.Dropout(0.5),\n",
    "    tf.keras.layers.Dense(units=64, activation=\"relu\",\n",
    "                          kernel_initializer=\"he_normal\"),\n",
    "    tf.keras.layers.Dropout(0.5),\n",
    "    tf.keras.layers.Dense(units=4, activation=\"softmax\")\n",
    "])"
   ]
  },
  {
   "cell_type": "code",
   "execution_count": 16,
   "id": "68592160",
   "metadata": {
    "execution": {
     "iopub.execute_input": "2023-11-23T13:50:13.426041Z",
     "iopub.status.busy": "2023-11-23T13:50:13.425744Z",
     "iopub.status.idle": "2023-11-23T14:00:35.104302Z",
     "shell.execute_reply": "2023-11-23T14:00:35.103431Z"
    },
    "papermill": {
     "duration": 621.692484,
     "end_time": "2023-11-23T14:00:35.106552",
     "exception": false,
     "start_time": "2023-11-23T13:50:13.414068",
     "status": "completed"
    },
    "tags": []
   },
   "outputs": [
    {
     "name": "stdout",
     "output_type": "stream",
     "text": [
      "Epoch 1/15\n",
      "202/202 [==============================] - 62s 218ms/step - loss: 49.3901 - accuracy: 0.3087 - val_loss: 1.2913 - val_accuracy: 0.3005\n",
      "Epoch 2/15\n",
      "202/202 [==============================] - 39s 195ms/step - loss: 1.2914 - accuracy: 0.3039 - val_loss: 1.2838 - val_accuracy: 0.3315\n",
      "Epoch 3/15\n",
      "202/202 [==============================] - 40s 199ms/step - loss: 1.2821 - accuracy: 0.3137 - val_loss: 1.2794 - val_accuracy: 0.3296\n",
      "Epoch 4/15\n",
      "202/202 [==============================] - 40s 197ms/step - loss: 1.2805 - accuracy: 0.3123 - val_loss: 1.2797 - val_accuracy: 0.3284\n",
      "Epoch 5/15\n",
      "202/202 [==============================] - 40s 197ms/step - loss: 1.2789 - accuracy: 0.3123 - val_loss: 1.2795 - val_accuracy: 0.3296\n",
      "Epoch 6/15\n",
      "202/202 [==============================] - 40s 197ms/step - loss: 1.2781 - accuracy: 0.3140 - val_loss: 1.2792 - val_accuracy: 0.3315\n",
      "Epoch 7/15\n",
      "202/202 [==============================] - 40s 197ms/step - loss: 1.2804 - accuracy: 0.3175 - val_loss: 1.2804 - val_accuracy: 0.3278\n",
      "Epoch 8/15\n",
      "202/202 [==============================] - 40s 197ms/step - loss: 1.2797 - accuracy: 0.3141 - val_loss: 2.5842 - val_accuracy: 0.3123\n",
      "Epoch 9/15\n",
      "202/202 [==============================] - 40s 197ms/step - loss: 3.9315 - accuracy: 0.3039 - val_loss: 1.2798 - val_accuracy: 0.3253\n",
      "Epoch 10/15\n",
      "202/202 [==============================] - 40s 197ms/step - loss: 1.2762 - accuracy: 0.3177 - val_loss: 1.2793 - val_accuracy: 0.3296\n",
      "Epoch 11/15\n",
      "202/202 [==============================] - 40s 197ms/step - loss: 1.2748 - accuracy: 0.3293 - val_loss: 1.2797 - val_accuracy: 0.3309\n",
      "Epoch 12/15\n",
      "202/202 [==============================] - 40s 197ms/step - loss: 1.2749 - accuracy: 0.3157 - val_loss: 1.2793 - val_accuracy: 0.3296\n",
      "Epoch 13/15\n",
      "202/202 [==============================] - 40s 197ms/step - loss: 1.2755 - accuracy: 0.3180 - val_loss: 1.2797 - val_accuracy: 0.3309\n",
      "Epoch 14/15\n",
      "202/202 [==============================] - 40s 197ms/step - loss: 1.2756 - accuracy: 0.3177 - val_loss: 1.2794 - val_accuracy: 0.3296\n",
      "Epoch 15/15\n",
      "202/202 [==============================] - 40s 197ms/step - loss: 1.2762 - accuracy: 0.3133 - val_loss: 1.2794 - val_accuracy: 0.3309\n"
     ]
    }
   ],
   "source": [
    "model.compile(loss=\"sparse_categorical_crossentropy\", optimizer=\"nadam\",\n",
    "              metrics=[\"accuracy\"])\n",
    "history = model.fit(X_train, y_train, epochs=15,\n",
    "                    validation_data=(X_valid, y_valid))"
   ]
  },
  {
   "cell_type": "code",
   "execution_count": 17,
   "id": "77ccb82b",
   "metadata": {
    "execution": {
     "iopub.execute_input": "2023-11-23T14:00:35.640478Z",
     "iopub.status.busy": "2023-11-23T14:00:35.636145Z",
     "iopub.status.idle": "2023-11-23T14:00:35.649627Z",
     "shell.execute_reply": "2023-11-23T14:00:35.648588Z"
    },
    "papermill": {
     "duration": 0.279948,
     "end_time": "2023-11-23T14:00:35.651622",
     "exception": false,
     "start_time": "2023-11-23T14:00:35.371674",
     "status": "completed"
    },
    "tags": []
   },
   "outputs": [],
   "source": [
    "DefaultConv2D = partial(tf.keras.layers.Conv2D, kernel_size=3, strides=1,\n",
    "                        padding=\"same\", kernel_initializer=\"he_normal\",\n",
    "                        use_bias=False)\n",
    "\n",
    "class ResidualUnit(tf.keras.layers.Layer):\n",
    "    def __init__(self, filters, strides=1, activation=\"relu\", **kwargs):\n",
    "        super().__init__(**kwargs)\n",
    "        self.activation = tf.keras.activations.get(activation)\n",
    "        self.main_layers = [\n",
    "            DefaultConv2D(filters, strides=strides),\n",
    "            tf.keras.layers.BatchNormalization(),\n",
    "            self.activation,\n",
    "            DefaultConv2D(filters),\n",
    "            tf.keras.layers.BatchNormalization()\n",
    "        ]\n",
    "        self.skip_layers = []\n",
    "        if strides > 1:\n",
    "            self.skip_layers = [\n",
    "                DefaultConv2D(filters, kernel_size=1, strides=strides),\n",
    "                tf.keras.layers.BatchNormalization()\n",
    "            ]\n",
    "\n",
    "    def call(self, inputs):\n",
    "        Z = inputs\n",
    "        for layer in self.main_layers:\n",
    "            Z = layer(Z)\n",
    "        skip_Z = inputs\n",
    "        for layer in self.skip_layers:\n",
    "            skip_Z = layer(skip_Z)\n",
    "        return self.activation(Z + skip_Z)"
   ]
  },
  {
   "cell_type": "code",
   "execution_count": 18,
   "id": "6c0cd2d5",
   "metadata": {
    "execution": {
     "iopub.execute_input": "2023-11-23T14:00:36.212723Z",
     "iopub.status.busy": "2023-11-23T14:00:36.212012Z",
     "iopub.status.idle": "2023-11-23T14:00:37.039685Z",
     "shell.execute_reply": "2023-11-23T14:00:37.038842Z"
    },
    "papermill": {
     "duration": 1.085347,
     "end_time": "2023-11-23T14:00:37.042183",
     "exception": false,
     "start_time": "2023-11-23T14:00:35.956836",
     "status": "completed"
    },
    "tags": []
   },
   "outputs": [],
   "source": [
    "tf.random.set_seed(42)\n",
    "tf.keras.backend.clear_session()\n",
    "\n",
    "model = tf.keras.Sequential([\n",
    "    DefaultConv2D(64, kernel_size=7, strides=2, input_shape=[224,224, 3]),\n",
    "    tf.keras.layers.BatchNormalization(),\n",
    "    tf.keras.layers.Activation(\"relu\"),\n",
    "    tf.keras.layers.MaxPool2D(pool_size=3, strides=2, padding=\"same\"),\n",
    "])\n",
    "\n",
    "residual_blocks = [3, 4, 6, 3]  # ResNet-50 configuration\n",
    "\n",
    "prev_filters = 64\n",
    "for filters, blocks in zip([64, 128, 256, 512], residual_blocks):\n",
    "    for _ in range(blocks):\n",
    "        if filters != prev_filters:\n",
    "            strides = 2\n",
    "        else:\n",
    "            strides = 1\n",
    "        model.add(ResidualUnit(filters, strides=strides))\n",
    "        prev_filters = filters\n",
    "\n",
    "model.add(tf.keras.layers.GlobalAveragePooling2D())\n",
    "model.add(tf.keras.layers.Dense(4, activation=\"softmax\"))"
   ]
  },
  {
   "cell_type": "code",
   "execution_count": 19,
   "id": "c59d722a",
   "metadata": {
    "execution": {
     "iopub.execute_input": "2023-11-23T14:00:37.551850Z",
     "iopub.status.busy": "2023-11-23T14:00:37.550736Z",
     "iopub.status.idle": "2023-11-23T14:10:53.498839Z",
     "shell.execute_reply": "2023-11-23T14:10:53.497800Z"
    },
    "papermill": {
     "duration": 616.691876,
     "end_time": "2023-11-23T14:10:53.988908",
     "exception": false,
     "start_time": "2023-11-23T14:00:37.297032",
     "status": "completed"
    },
    "tags": []
   },
   "outputs": [
    {
     "name": "stdout",
     "output_type": "stream",
     "text": [
      "Epoch 1/15\n",
      "202/202 [==============================] - 74s 206ms/step - loss: 1.5090 - accuracy: 0.3282 - val_loss: 1.6337 - val_accuracy: 0.2974\n",
      "Epoch 2/15\n",
      "202/202 [==============================] - 38s 190ms/step - loss: 1.3099 - accuracy: 0.3047 - val_loss: 1.6867 - val_accuracy: 0.2999\n",
      "Epoch 3/15\n",
      "202/202 [==============================] - 39s 192ms/step - loss: 1.3034 - accuracy: 0.3130 - val_loss: 1.2801 - val_accuracy: 0.3092\n",
      "Epoch 4/15\n",
      "202/202 [==============================] - 39s 191ms/step - loss: 1.2980 - accuracy: 0.3174 - val_loss: 3.1878 - val_accuracy: 0.3086\n",
      "Epoch 5/15\n",
      "202/202 [==============================] - 39s 191ms/step - loss: 1.2991 - accuracy: 0.3019 - val_loss: 1.2889 - val_accuracy: 0.2999\n",
      "Epoch 6/15\n",
      "202/202 [==============================] - 39s 191ms/step - loss: 1.2932 - accuracy: 0.3087 - val_loss: 5.3269 - val_accuracy: 0.2955\n",
      "Epoch 7/15\n",
      "202/202 [==============================] - 39s 191ms/step - loss: 1.2946 - accuracy: 0.3132 - val_loss: 1.3091 - val_accuracy: 0.2782\n",
      "Epoch 8/15\n",
      "202/202 [==============================] - 39s 191ms/step - loss: 1.2976 - accuracy: 0.3115 - val_loss: 1.5436 - val_accuracy: 0.2949\n",
      "Epoch 9/15\n",
      "202/202 [==============================] - 39s 191ms/step - loss: 1.2954 - accuracy: 0.3168 - val_loss: 1.2863 - val_accuracy: 0.3017\n",
      "Epoch 10/15\n",
      "202/202 [==============================] - 39s 191ms/step - loss: 1.2945 - accuracy: 0.3076 - val_loss: 2.0967 - val_accuracy: 0.3172\n",
      "Epoch 11/15\n",
      "202/202 [==============================] - 39s 191ms/step - loss: 1.2943 - accuracy: 0.3085 - val_loss: 1.2836 - val_accuracy: 0.3154\n",
      "Epoch 12/15\n",
      "202/202 [==============================] - 39s 191ms/step - loss: 1.2946 - accuracy: 0.3166 - val_loss: 1.5515 - val_accuracy: 0.3147\n",
      "Epoch 13/15\n",
      "202/202 [==============================] - 38s 190ms/step - loss: 1.2947 - accuracy: 0.3110 - val_loss: 1.6398 - val_accuracy: 0.3141\n",
      "Epoch 14/15\n",
      "202/202 [==============================] - 38s 190ms/step - loss: 1.2922 - accuracy: 0.3118 - val_loss: 1.2870 - val_accuracy: 0.3315\n",
      "Epoch 15/15\n",
      "202/202 [==============================] - 39s 191ms/step - loss: 1.2865 - accuracy: 0.3146 - val_loss: 1.3977 - val_accuracy: 0.3296\n"
     ]
    }
   ],
   "source": [
    "model.compile(loss=\"sparse_categorical_crossentropy\", optimizer=\"nadam\",\n",
    "              metrics=[\"accuracy\"])\n",
    "history = model.fit(X_train, y_train, epochs=15,\n",
    "                    validation_data=(X_valid, y_valid))"
   ]
  },
  {
   "cell_type": "code",
   "execution_count": 20,
   "id": "2e300ed3",
   "metadata": {
    "execution": {
     "iopub.execute_input": "2023-11-23T14:10:55.084259Z",
     "iopub.status.busy": "2023-11-23T14:10:55.083859Z",
     "iopub.status.idle": "2023-11-23T14:10:57.223891Z",
     "shell.execute_reply": "2023-11-23T14:10:57.222786Z"
    },
    "papermill": {
     "duration": 2.736829,
     "end_time": "2023-11-23T14:10:57.226483",
     "exception": false,
     "start_time": "2023-11-23T14:10:54.489654",
     "status": "completed"
    },
    "tags": []
   },
   "outputs": [
    {
     "name": "stdout",
     "output_type": "stream",
     "text": [
      "Downloading data from https://storage.googleapis.com/tensorflow/keras-applications/xception/xception_weights_tf_dim_ordering_tf_kernels_notop.h5\n",
      "83683744/83683744 [==============================] - 0s 0us/step\n"
     ]
    }
   ],
   "source": [
    "tf.random.set_seed(42)\n",
    "tf.keras.backend.clear_session()\n",
    "\n",
    "base_model = tf.keras.applications.xception.Xception(weights=\"imagenet\",\n",
    "                                                     include_top=False)\n",
    "avg = tf.keras.layers.GlobalAveragePooling2D()(base_model.output)\n",
    "output = tf.keras.layers.Dense(4, activation=\"softmax\")(avg)\n",
    "model = tf.keras.Model(inputs=base_model.input, outputs=output)"
   ]
  },
  {
   "cell_type": "code",
   "execution_count": 21,
   "id": "5cf5bdd6",
   "metadata": {
    "execution": {
     "iopub.execute_input": "2023-11-23T14:10:58.229859Z",
     "iopub.status.busy": "2023-11-23T14:10:58.229108Z",
     "iopub.status.idle": "2023-11-23T14:10:58.239156Z",
     "shell.execute_reply": "2023-11-23T14:10:58.238195Z"
    },
    "papermill": {
     "duration": 0.509365,
     "end_time": "2023-11-23T14:10:58.241355",
     "exception": false,
     "start_time": "2023-11-23T14:10:57.731990",
     "status": "completed"
    },
    "tags": []
   },
   "outputs": [],
   "source": [
    "for layer in base_model.layers:\n",
    "    layer.trainable = False"
   ]
  },
  {
   "cell_type": "code",
   "execution_count": 22,
   "id": "bc74515e",
   "metadata": {
    "execution": {
     "iopub.execute_input": "2023-11-23T14:10:59.298733Z",
     "iopub.status.busy": "2023-11-23T14:10:59.297987Z",
     "iopub.status.idle": "2023-11-23T14:13:47.386859Z",
     "shell.execute_reply": "2023-11-23T14:13:47.386011Z"
    },
    "papermill": {
     "duration": 168.64173,
     "end_time": "2023-11-23T14:13:47.389007",
     "exception": false,
     "start_time": "2023-11-23T14:10:58.747277",
     "status": "completed"
    },
    "tags": []
   },
   "outputs": [
    {
     "name": "stdout",
     "output_type": "stream",
     "text": [
      "Epoch 1/5\n",
      "202/202 [==============================] - 39s 170ms/step - loss: 17918.0566 - accuracy: 0.2899 - val_loss: 16874.7617 - val_accuracy: 0.3073\n",
      "Epoch 2/5\n",
      "202/202 [==============================] - 31s 153ms/step - loss: 18280.2734 - accuracy: 0.2966 - val_loss: 16384.4941 - val_accuracy: 0.3030\n",
      "Epoch 3/5\n",
      "202/202 [==============================] - 31s 152ms/step - loss: 17025.3652 - accuracy: 0.3050 - val_loss: 23512.1133 - val_accuracy: 0.2974\n",
      "Epoch 4/5\n",
      "202/202 [==============================] - 31s 152ms/step - loss: 16862.1113 - accuracy: 0.2989 - val_loss: 19834.9941 - val_accuracy: 0.3309\n",
      "Epoch 5/5\n",
      "202/202 [==============================] - 35s 172ms/step - loss: 16324.9414 - accuracy: 0.3054 - val_loss: 16139.8525 - val_accuracy: 0.3253\n"
     ]
    }
   ],
   "source": [
    "optimizer = tf.keras.optimizers.SGD(learning_rate=0.1, momentum=0.9)\n",
    "model.compile(loss=\"sparse_categorical_crossentropy\", optimizer=optimizer,\n",
    "              metrics=[\"accuracy\"])\n",
    "history = model.fit(X_train, y_train, epochs=5,\n",
    "                    validation_data=(X_valid, y_valid))"
   ]
  },
  {
   "cell_type": "code",
   "execution_count": 23,
   "id": "518e726b",
   "metadata": {
    "execution": {
     "iopub.execute_input": "2023-11-23T14:13:48.600312Z",
     "iopub.status.busy": "2023-11-23T14:13:48.599954Z",
     "iopub.status.idle": "2023-11-23T14:13:48.632366Z",
     "shell.execute_reply": "2023-11-23T14:13:48.631492Z"
    },
    "papermill": {
     "duration": 0.667056,
     "end_time": "2023-11-23T14:13:48.634701",
     "exception": false,
     "start_time": "2023-11-23T14:13:47.967645",
     "status": "completed"
    },
    "tags": []
   },
   "outputs": [
    {
     "name": "stdout",
     "output_type": "stream",
     "text": [
      "  0: input_1                33: block4_pool            66: block8_sepconv1_act    99: block11_sepconv2_act  \n",
      "  1: block1_conv1           34: batch_normalization_2  67: block8_sepconv1       100: block11_sepconv2      \n",
      "  2: block1_conv1_bn        35: add_2                  68: block8_sepconv1_bn    101: block11_sepconv2_bn   \n",
      "  3: block1_conv1_act       36: block5_sepconv1_act    69: block8_sepconv2_act   102: block11_sepconv3_act  \n",
      "  4: block1_conv2           37: block5_sepconv1        70: block8_sepconv2       103: block11_sepconv3      \n",
      "  5: block1_conv2_bn        38: block5_sepconv1_bn     71: block8_sepconv2_bn    104: block11_sepconv3_bn   \n",
      "  6: block1_conv2_act       39: block5_sepconv2_act    72: block8_sepconv3_act   105: add_9                 \n",
      "  7: block2_sepconv1        40: block5_sepconv2        73: block8_sepconv3       106: block12_sepconv1_act  \n",
      "  8: block2_sepconv1_bn     41: block5_sepconv2_bn     74: block8_sepconv3_bn    107: block12_sepconv1      \n",
      "  9: block2_sepconv2_act    42: block5_sepconv3_act    75: add_6                 108: block12_sepconv1_bn   \n",
      " 10: block2_sepconv2        43: block5_sepconv3        76: block9_sepconv1_act   109: block12_sepconv2_act  \n",
      " 11: block2_sepconv2_bn     44: block5_sepconv3_bn     77: block9_sepconv1       110: block12_sepconv2      \n",
      " 12: conv2d                 45: add_3                  78: block9_sepconv1_bn    111: block12_sepconv2_bn   \n",
      " 13: block2_pool            46: block6_sepconv1_act    79: block9_sepconv2_act   112: block12_sepconv3_act  \n",
      " 14: batch_normalization    47: block6_sepconv1        80: block9_sepconv2       113: block12_sepconv3      \n",
      " 15: add                    48: block6_sepconv1_bn     81: block9_sepconv2_bn    114: block12_sepconv3_bn   \n",
      " 16: block3_sepconv1_act    49: block6_sepconv2_act    82: block9_sepconv3_act   115: add_10                \n",
      " 17: block3_sepconv1        50: block6_sepconv2        83: block9_sepconv3       116: block13_sepconv1_act  \n",
      " 18: block3_sepconv1_bn     51: block6_sepconv2_bn     84: block9_sepconv3_bn    117: block13_sepconv1      \n",
      " 19: block3_sepconv2_act    52: block6_sepconv3_act    85: add_7                 118: block13_sepconv1_bn   \n",
      " 20: block3_sepconv2        53: block6_sepconv3        86: block10_sepconv1_act  119: block13_sepconv2_act  \n",
      " 21: block3_sepconv2_bn     54: block6_sepconv3_bn     87: block10_sepconv1      120: block13_sepconv2      \n",
      " 22: conv2d_1               55: add_4                  88: block10_sepconv1_bn   121: block13_sepconv2_bn   \n",
      " 23: block3_pool            56: block7_sepconv1_act    89: block10_sepconv2_act  122: conv2d_3              \n",
      " 24: batch_normalization_1  57: block7_sepconv1        90: block10_sepconv2      123: block13_pool          \n",
      " 25: add_1                  58: block7_sepconv1_bn     91: block10_sepconv2_bn   124: batch_normalization_3 \n",
      " 26: block4_sepconv1_act    59: block7_sepconv2_act    92: block10_sepconv3_act  125: add_11                \n",
      " 27: block4_sepconv1        60: block7_sepconv2        93: block10_sepconv3      126: block14_sepconv1      \n",
      " 28: block4_sepconv1_bn     61: block7_sepconv2_bn     94: block10_sepconv3_bn   127: block14_sepconv1_bn   \n",
      " 29: block4_sepconv2_act    62: block7_sepconv3_act    95: add_8                 128: block14_sepconv1_act  \n",
      " 30: block4_sepconv2        63: block7_sepconv3        96: block11_sepconv1_act  129: block14_sepconv2      \n",
      " 31: block4_sepconv2_bn     64: block7_sepconv3_bn     97: block11_sepconv1      130: block14_sepconv2_bn   \n",
      " 32: conv2d_2               65: add_5                  98: block11_sepconv1_bn   131: block14_sepconv2_act  \n"
     ]
    }
   ],
   "source": [
    "for indices in zip(range(33), range(33, 66), range(66, 99), range(99, 132)):\n",
    "    for idx in indices:\n",
    "        print(f\"{idx:3}: {base_model.layers[idx].name:22}\", end=\"\")\n",
    "    print()"
   ]
  },
  {
   "cell_type": "code",
   "execution_count": 24,
   "id": "d97edc3b",
   "metadata": {
    "execution": {
     "iopub.execute_input": "2023-11-23T14:13:49.806345Z",
     "iopub.status.busy": "2023-11-23T14:13:49.805441Z",
     "iopub.status.idle": "2023-11-23T14:29:19.720582Z",
     "shell.execute_reply": "2023-11-23T14:29:19.719508Z"
    },
    "papermill": {
     "duration": 930.512359,
     "end_time": "2023-11-23T14:29:19.723159",
     "exception": false,
     "start_time": "2023-11-23T14:13:49.210800",
     "status": "completed"
    },
    "tags": []
   },
   "outputs": [
    {
     "name": "stdout",
     "output_type": "stream",
     "text": [
      "Epoch 1/15\n",
      "202/202 [==============================] - 71s 305ms/step - loss: 2.2109 - accuracy: 0.3234 - val_loss: 1.3674 - val_accuracy: 0.3284\n",
      "Epoch 2/15\n",
      "202/202 [==============================] - 57s 284ms/step - loss: 1.2755 - accuracy: 0.3164 - val_loss: 1.2845 - val_accuracy: 0.3309\n",
      "Epoch 3/15\n",
      "202/202 [==============================] - 58s 285ms/step - loss: 1.2735 - accuracy: 0.3243 - val_loss: 1.2810 - val_accuracy: 0.3302\n",
      "Epoch 4/15\n",
      "202/202 [==============================] - 57s 284ms/step - loss: 1.2733 - accuracy: 0.3186 - val_loss: 1.2813 - val_accuracy: 0.3302\n",
      "Epoch 5/15\n",
      "202/202 [==============================] - 57s 283ms/step - loss: 1.2735 - accuracy: 0.3192 - val_loss: 1.2808 - val_accuracy: 0.3302\n",
      "Epoch 6/15\n",
      "202/202 [==============================] - 57s 283ms/step - loss: 1.2737 - accuracy: 0.3243 - val_loss: 1.2809 - val_accuracy: 0.3302\n",
      "Epoch 7/15\n",
      "202/202 [==============================] - 57s 283ms/step - loss: 1.2735 - accuracy: 0.3194 - val_loss: 1.2816 - val_accuracy: 0.2974\n",
      "Epoch 8/15\n",
      "202/202 [==============================] - 57s 282ms/step - loss: 1.2740 - accuracy: 0.3175 - val_loss: 1.2807 - val_accuracy: 0.3302\n",
      "Epoch 9/15\n",
      "202/202 [==============================] - 57s 283ms/step - loss: 1.2736 - accuracy: 0.3163 - val_loss: 1.2801 - val_accuracy: 0.3302\n",
      "Epoch 10/15\n",
      "202/202 [==============================] - 57s 283ms/step - loss: 1.2737 - accuracy: 0.3243 - val_loss: 1.2810 - val_accuracy: 0.3302\n",
      "Epoch 11/15\n",
      "202/202 [==============================] - 57s 284ms/step - loss: 1.2735 - accuracy: 0.3191 - val_loss: 1.2806 - val_accuracy: 0.3302\n",
      "Epoch 12/15\n",
      "202/202 [==============================] - 58s 289ms/step - loss: 1.2738 - accuracy: 0.3166 - val_loss: 1.2809 - val_accuracy: 0.3302\n",
      "Epoch 13/15\n",
      "202/202 [==============================] - 58s 286ms/step - loss: 1.2736 - accuracy: 0.3214 - val_loss: 1.2807 - val_accuracy: 0.3302\n",
      "Epoch 14/15\n",
      "202/202 [==============================] - 58s 288ms/step - loss: 1.2738 - accuracy: 0.3143 - val_loss: 1.2814 - val_accuracy: 0.3302\n",
      "Epoch 15/15\n",
      "202/202 [==============================] - 59s 290ms/step - loss: 1.2740 - accuracy: 0.3226 - val_loss: 1.2806 - val_accuracy: 0.3302\n"
     ]
    }
   ],
   "source": [
    "for layer in base_model.layers[56:]:\n",
    "    layer.trainable = True\n",
    "\n",
    "optimizer = tf.keras.optimizers.SGD(learning_rate=0.01, momentum=0.9)\n",
    "model.compile(loss=\"sparse_categorical_crossentropy\", optimizer=optimizer,\n",
    "              metrics=[\"accuracy\"])\n",
    "history = model.fit(X_train, y_train, epochs=15,\n",
    "                    validation_data=(X_valid, y_valid))"
   ]
  }
 ],
 "metadata": {
  "kaggle": {
   "accelerator": "nvidiaTeslaT4",
   "dataSources": [
    {
     "datasetId": 2051125,
     "sourceId": 3402697,
     "sourceType": "datasetVersion"
    }
   ],
   "dockerImageVersionId": 30588,
   "isGpuEnabled": true,
   "isInternetEnabled": true,
   "language": "python",
   "sourceType": "notebook"
  },
  "kernelspec": {
   "display_name": "Python 3",
   "language": "python",
   "name": "python3"
  },
  "language_info": {
   "codemirror_mode": {
    "name": "ipython",
    "version": 3
   },
   "file_extension": ".py",
   "mimetype": "text/x-python",
   "name": "python",
   "nbconvert_exporter": "python",
   "pygments_lexer": "ipython3",
   "version": "3.10.12"
  },
  "papermill": {
   "default_parameters": {},
   "duration": 2436.428503,
   "end_time": "2023-11-23T14:29:24.008164",
   "environment_variables": {},
   "exception": null,
   "input_path": "__notebook__.ipynb",
   "output_path": "__notebook__.ipynb",
   "parameters": {},
   "start_time": "2023-11-23T13:48:47.579661",
   "version": "2.4.0"
  }
 },
 "nbformat": 4,
 "nbformat_minor": 5
}
