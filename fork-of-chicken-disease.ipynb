{
 "cells": [
  {
   "cell_type": "code",
   "execution_count": 1,
   "id": "3a63d0ea",
   "metadata": {
    "execution": {
     "iopub.execute_input": "2023-11-24T16:56:29.818177Z",
     "iopub.status.busy": "2023-11-24T16:56:29.817834Z",
     "iopub.status.idle": "2023-11-24T16:56:29.828008Z",
     "shell.execute_reply": "2023-11-24T16:56:29.827125Z"
    },
    "papermill": {
     "duration": 0.020918,
     "end_time": "2023-11-24T16:56:29.829969",
     "exception": false,
     "start_time": "2023-11-24T16:56:29.809051",
     "status": "completed"
    },
    "tags": []
   },
   "outputs": [],
   "source": [
    "import warnings\n",
    "warnings.filterwarnings('ignore')"
   ]
  },
  {
   "cell_type": "code",
   "execution_count": 2,
   "id": "647205f9",
   "metadata": {
    "execution": {
     "iopub.execute_input": "2023-11-24T16:56:29.845474Z",
     "iopub.status.busy": "2023-11-24T16:56:29.845207Z",
     "iopub.status.idle": "2023-11-24T16:56:43.407561Z",
     "shell.execute_reply": "2023-11-24T16:56:43.406554Z"
    },
    "papermill": {
     "duration": 13.572867,
     "end_time": "2023-11-24T16:56:43.410058",
     "exception": false,
     "start_time": "2023-11-24T16:56:29.837191",
     "status": "completed"
    },
    "tags": []
   },
   "outputs": [],
   "source": [
    "import numpy as np\n",
    "import pandas as pd\n",
    "import tensorflow as tf"
   ]
  },
  {
   "cell_type": "code",
   "execution_count": 3,
   "id": "bc351a9c",
   "metadata": {
    "execution": {
     "iopub.execute_input": "2023-11-24T16:56:43.425236Z",
     "iopub.status.busy": "2023-11-24T16:56:43.424731Z",
     "iopub.status.idle": "2023-11-24T16:56:43.459500Z",
     "shell.execute_reply": "2023-11-24T16:56:43.458640Z"
    },
    "papermill": {
     "duration": 0.044393,
     "end_time": "2023-11-24T16:56:43.461517",
     "exception": false,
     "start_time": "2023-11-24T16:56:43.417124",
     "status": "completed"
    },
    "tags": []
   },
   "outputs": [],
   "source": [
    "data = pd.read_csv(\"/kaggle/input/chicken-disease-1/train_data.csv\")"
   ]
  },
  {
   "cell_type": "code",
   "execution_count": 4,
   "id": "1b823f20",
   "metadata": {
    "execution": {
     "iopub.execute_input": "2023-11-24T16:56:43.476679Z",
     "iopub.status.busy": "2023-11-24T16:56:43.476389Z",
     "iopub.status.idle": "2023-11-24T16:56:43.504790Z",
     "shell.execute_reply": "2023-11-24T16:56:43.503893Z"
    },
    "papermill": {
     "duration": 0.038328,
     "end_time": "2023-11-24T16:56:43.506961",
     "exception": false,
     "start_time": "2023-11-24T16:56:43.468633",
     "status": "completed"
    },
    "tags": []
   },
   "outputs": [
    {
     "name": "stdout",
     "output_type": "stream",
     "text": [
      "<class 'pandas.core.frame.DataFrame'>\n",
      "RangeIndex: 8067 entries, 0 to 8066\n",
      "Data columns (total 2 columns):\n",
      " #   Column  Non-Null Count  Dtype \n",
      "---  ------  --------------  ----- \n",
      " 0   images  8067 non-null   object\n",
      " 1   label   8067 non-null   object\n",
      "dtypes: object(2)\n",
      "memory usage: 126.2+ KB\n"
     ]
    }
   ],
   "source": [
    "data.info()"
   ]
  },
  {
   "cell_type": "code",
   "execution_count": 5,
   "id": "4f6b68fd",
   "metadata": {
    "execution": {
     "iopub.execute_input": "2023-11-24T16:56:43.523495Z",
     "iopub.status.busy": "2023-11-24T16:56:43.522767Z",
     "iopub.status.idle": "2023-11-24T16:56:43.535808Z",
     "shell.execute_reply": "2023-11-24T16:56:43.534868Z"
    },
    "papermill": {
     "duration": 0.023404,
     "end_time": "2023-11-24T16:56:43.537951",
     "exception": false,
     "start_time": "2023-11-24T16:56:43.514547",
     "status": "completed"
    },
    "tags": []
   },
   "outputs": [
    {
     "data": {
      "text/html": [
       "<div>\n",
       "<style scoped>\n",
       "    .dataframe tbody tr th:only-of-type {\n",
       "        vertical-align: middle;\n",
       "    }\n",
       "\n",
       "    .dataframe tbody tr th {\n",
       "        vertical-align: top;\n",
       "    }\n",
       "\n",
       "    .dataframe thead th {\n",
       "        text-align: right;\n",
       "    }\n",
       "</style>\n",
       "<table border=\"1\" class=\"dataframe\">\n",
       "  <thead>\n",
       "    <tr style=\"text-align: right;\">\n",
       "      <th></th>\n",
       "      <th>images</th>\n",
       "      <th>label</th>\n",
       "    </tr>\n",
       "  </thead>\n",
       "  <tbody>\n",
       "    <tr>\n",
       "      <th>0</th>\n",
       "      <td>salmo.1558.jpg</td>\n",
       "      <td>Salmonella</td>\n",
       "    </tr>\n",
       "    <tr>\n",
       "      <th>1</th>\n",
       "      <td>cocci.1866.jpg</td>\n",
       "      <td>Coccidiosis</td>\n",
       "    </tr>\n",
       "    <tr>\n",
       "      <th>2</th>\n",
       "      <td>cocci.171.jpg</td>\n",
       "      <td>Coccidiosis</td>\n",
       "    </tr>\n",
       "    <tr>\n",
       "      <th>3</th>\n",
       "      <td>salmo.1484.jpg</td>\n",
       "      <td>Salmonella</td>\n",
       "    </tr>\n",
       "    <tr>\n",
       "      <th>4</th>\n",
       "      <td>ncd.100.jpg</td>\n",
       "      <td>New Castle Disease</td>\n",
       "    </tr>\n",
       "  </tbody>\n",
       "</table>\n",
       "</div>"
      ],
      "text/plain": [
       "           images               label\n",
       "0  salmo.1558.jpg          Salmonella\n",
       "1  cocci.1866.jpg         Coccidiosis\n",
       "2   cocci.171.jpg         Coccidiosis\n",
       "3  salmo.1484.jpg          Salmonella\n",
       "4     ncd.100.jpg  New Castle Disease"
      ]
     },
     "execution_count": 5,
     "metadata": {},
     "output_type": "execute_result"
    }
   ],
   "source": [
    "data.head()"
   ]
  },
  {
   "cell_type": "code",
   "execution_count": 6,
   "id": "2cf5dd64",
   "metadata": {
    "execution": {
     "iopub.execute_input": "2023-11-24T16:56:43.554868Z",
     "iopub.status.busy": "2023-11-24T16:56:43.554520Z",
     "iopub.status.idle": "2023-11-24T16:56:43.563210Z",
     "shell.execute_reply": "2023-11-24T16:56:43.562363Z"
    },
    "papermill": {
     "duration": 0.019464,
     "end_time": "2023-11-24T16:56:43.565444",
     "exception": false,
     "start_time": "2023-11-24T16:56:43.545980",
     "status": "completed"
    },
    "tags": []
   },
   "outputs": [
    {
     "data": {
      "text/plain": [
       "label\n",
       "Salmonella            2625\n",
       "Coccidiosis           2476\n",
       "Healthy               2404\n",
       "New Castle Disease     562\n",
       "Name: count, dtype: int64"
      ]
     },
     "execution_count": 6,
     "metadata": {},
     "output_type": "execute_result"
    }
   ],
   "source": [
    "data['label'].value_counts()"
   ]
  },
  {
   "cell_type": "code",
   "execution_count": 7,
   "id": "04161559",
   "metadata": {
    "execution": {
     "iopub.execute_input": "2023-11-24T16:56:43.582365Z",
     "iopub.status.busy": "2023-11-24T16:56:43.582050Z",
     "iopub.status.idle": "2023-11-24T16:58:10.366775Z",
     "shell.execute_reply": "2023-11-24T16:58:10.365847Z"
    },
    "papermill": {
     "duration": 86.796091,
     "end_time": "2023-11-24T16:58:10.369356",
     "exception": false,
     "start_time": "2023-11-24T16:56:43.573265",
     "status": "completed"
    },
    "tags": []
   },
   "outputs": [],
   "source": [
    "import os\n",
    "import cv2\n",
    "\n",
    "directory = \"/kaggle/input/chicken-disease-1/Train\"\n",
    "\n",
    "def load_images_from_folder(folder):\n",
    "    images = []\n",
    "    for filename in os.listdir(folder):\n",
    "        if filename.endswith('.jpg'):\n",
    "            img = cv2.imread(os.path.join(folder, filename))\n",
    "            if img is not None:\n",
    "                images.append(img)\n",
    "            else:\n",
    "                continue\n",
    "    return images\n",
    "\n",
    "\n",
    "images = load_images_from_folder(directory)"
   ]
  },
  {
   "cell_type": "code",
   "execution_count": 8,
   "id": "3e003f86",
   "metadata": {
    "execution": {
     "iopub.execute_input": "2023-11-24T16:58:10.385233Z",
     "iopub.status.busy": "2023-11-24T16:58:10.384901Z",
     "iopub.status.idle": "2023-11-24T16:58:10.755369Z",
     "shell.execute_reply": "2023-11-24T16:58:10.754355Z"
    },
    "papermill": {
     "duration": 0.38091,
     "end_time": "2023-11-24T16:58:10.757770",
     "exception": false,
     "start_time": "2023-11-24T16:58:10.376860",
     "status": "completed"
    },
    "tags": []
   },
   "outputs": [],
   "source": [
    "images = np.array(images)"
   ]
  },
  {
   "cell_type": "code",
   "execution_count": 9,
   "id": "590ac3b2",
   "metadata": {
    "execution": {
     "iopub.execute_input": "2023-11-24T16:58:10.773395Z",
     "iopub.status.busy": "2023-11-24T16:58:10.773076Z",
     "iopub.status.idle": "2023-11-24T16:58:10.778559Z",
     "shell.execute_reply": "2023-11-24T16:58:10.777745Z"
    },
    "papermill": {
     "duration": 0.015578,
     "end_time": "2023-11-24T16:58:10.780632",
     "exception": false,
     "start_time": "2023-11-24T16:58:10.765054",
     "status": "completed"
    },
    "tags": []
   },
   "outputs": [
    {
     "data": {
      "text/plain": [
       "(224, 224, 3)"
      ]
     },
     "execution_count": 9,
     "metadata": {},
     "output_type": "execute_result"
    }
   ],
   "source": [
    "images[0].shape"
   ]
  },
  {
   "cell_type": "code",
   "execution_count": 10,
   "id": "ee4f7c3e",
   "metadata": {
    "execution": {
     "iopub.execute_input": "2023-11-24T16:58:10.796162Z",
     "iopub.status.busy": "2023-11-24T16:58:10.795878Z",
     "iopub.status.idle": "2023-11-24T16:58:11.468535Z",
     "shell.execute_reply": "2023-11-24T16:58:11.467759Z"
    },
    "papermill": {
     "duration": 0.683284,
     "end_time": "2023-11-24T16:58:11.470966",
     "exception": false,
     "start_time": "2023-11-24T16:58:10.787682",
     "status": "completed"
    },
    "tags": []
   },
   "outputs": [],
   "source": [
    "from sklearn.preprocessing import OrdinalEncoder\n",
    "\n",
    "encoder = OrdinalEncoder()\n",
    "data[['label']] = encoder.fit_transform(data[['label']])\n",
    "#data['label'] = data['label'].astype(int)"
   ]
  },
  {
   "cell_type": "code",
   "execution_count": 11,
   "id": "b32a80da",
   "metadata": {
    "execution": {
     "iopub.execute_input": "2023-11-24T16:58:11.487085Z",
     "iopub.status.busy": "2023-11-24T16:58:11.486806Z",
     "iopub.status.idle": "2023-11-24T16:58:11.495414Z",
     "shell.execute_reply": "2023-11-24T16:58:11.494552Z"
    },
    "papermill": {
     "duration": 0.018781,
     "end_time": "2023-11-24T16:58:11.497292",
     "exception": false,
     "start_time": "2023-11-24T16:58:11.478511",
     "status": "completed"
    },
    "tags": []
   },
   "outputs": [
    {
     "data": {
      "text/plain": [
       "0       3.0\n",
       "1       0.0\n",
       "2       0.0\n",
       "3       3.0\n",
       "4       2.0\n",
       "       ... \n",
       "8062    1.0\n",
       "8063    3.0\n",
       "8064    2.0\n",
       "8065    3.0\n",
       "8066    1.0\n",
       "Name: label, Length: 8067, dtype: float64"
      ]
     },
     "execution_count": 11,
     "metadata": {},
     "output_type": "execute_result"
    }
   ],
   "source": [
    "data['label']"
   ]
  },
  {
   "cell_type": "code",
   "execution_count": 12,
   "id": "b6db4011",
   "metadata": {
    "execution": {
     "iopub.execute_input": "2023-11-24T16:58:11.513235Z",
     "iopub.status.busy": "2023-11-24T16:58:11.512988Z",
     "iopub.status.idle": "2023-11-24T16:58:11.518326Z",
     "shell.execute_reply": "2023-11-24T16:58:11.517466Z"
    },
    "papermill": {
     "duration": 0.015453,
     "end_time": "2023-11-24T16:58:11.520345",
     "exception": false,
     "start_time": "2023-11-24T16:58:11.504892",
     "status": "completed"
    },
    "tags": []
   },
   "outputs": [],
   "source": [
    "labels = data['label'].tolist()\n",
    "labels = np.array(labels)\n",
    "labels = labels.flatten()"
   ]
  },
  {
   "cell_type": "code",
   "execution_count": 13,
   "id": "c43c396e",
   "metadata": {
    "execution": {
     "iopub.execute_input": "2023-11-24T16:58:11.535980Z",
     "iopub.status.busy": "2023-11-24T16:58:11.535715Z",
     "iopub.status.idle": "2023-11-24T16:58:11.896370Z",
     "shell.execute_reply": "2023-11-24T16:58:11.895557Z"
    },
    "papermill": {
     "duration": 0.37111,
     "end_time": "2023-11-24T16:58:11.898793",
     "exception": false,
     "start_time": "2023-11-24T16:58:11.527683",
     "status": "completed"
    },
    "tags": []
   },
   "outputs": [],
   "source": [
    "from sklearn.utils import shuffle\n",
    "images , labels = shuffle(images , labels)"
   ]
  },
  {
   "cell_type": "code",
   "execution_count": 14,
   "id": "58d0506c",
   "metadata": {
    "execution": {
     "iopub.execute_input": "2023-11-24T16:58:11.915470Z",
     "iopub.status.busy": "2023-11-24T16:58:11.915146Z",
     "iopub.status.idle": "2023-11-24T16:58:12.283669Z",
     "shell.execute_reply": "2023-11-24T16:58:12.282793Z"
    },
    "papermill": {
     "duration": 0.379562,
     "end_time": "2023-11-24T16:58:12.286096",
     "exception": false,
     "start_time": "2023-11-24T16:58:11.906534",
     "status": "completed"
    },
    "tags": []
   },
   "outputs": [],
   "source": [
    "from sklearn.model_selection import train_test_split\n",
    "X_train , X_valid , y_train , y_valid = train_test_split(images , labels ,test_size=0.2,random_state=42)"
   ]
  },
  {
   "cell_type": "code",
   "execution_count": 15,
   "id": "68dc2606",
   "metadata": {
    "execution": {
     "iopub.execute_input": "2023-11-24T16:58:12.303473Z",
     "iopub.status.busy": "2023-11-24T16:58:12.303171Z",
     "iopub.status.idle": "2023-11-24T16:58:12.457178Z",
     "shell.execute_reply": "2023-11-24T16:58:12.456152Z"
    },
    "papermill": {
     "duration": 0.165767,
     "end_time": "2023-11-24T16:58:12.460000",
     "exception": false,
     "start_time": "2023-11-24T16:58:12.294233",
     "status": "completed"
    },
    "tags": []
   },
   "outputs": [],
   "source": [
    "leaky_relu = tf.keras.layers.LeakyReLU(alpha=0.2)"
   ]
  },
  {
   "cell_type": "code",
   "execution_count": 16,
   "id": "95eb77c0",
   "metadata": {
    "execution": {
     "iopub.execute_input": "2023-11-24T16:58:12.477328Z",
     "iopub.status.busy": "2023-11-24T16:58:12.477008Z",
     "iopub.status.idle": "2023-11-24T16:58:16.837683Z",
     "shell.execute_reply": "2023-11-24T16:58:16.836666Z"
    },
    "papermill": {
     "duration": 4.372041,
     "end_time": "2023-11-24T16:58:16.840390",
     "exception": false,
     "start_time": "2023-11-24T16:58:12.468349",
     "status": "completed"
    },
    "tags": []
   },
   "outputs": [],
   "source": [
    "tf.random.set_seed(42)\n",
    "tf.keras.backend.clear_session()\n",
    "\n",
    "from functools import partial\n",
    "\n",
    "DefaultConv2D = partial(tf.keras.layers.Conv2D, kernel_size=3, padding=\"same\",\n",
    "                        activation=leaky_relu, kernel_initializer=\"he_normal\")\n",
    "model = tf.keras.Sequential([\n",
    "    DefaultConv2D(filters=64, kernel_size=7, input_shape=[224, 224, 3]),\n",
    "    tf.keras.layers.MaxPool2D(),\n",
    "    DefaultConv2D(filters=128),\n",
    "    DefaultConv2D(filters=128),\n",
    "    tf.keras.layers.MaxPool2D(),\n",
    "    DefaultConv2D(filters=256),\n",
    "    DefaultConv2D(filters=256),\n",
    "    tf.keras.layers.MaxPool2D(),\n",
    "    tf.keras.layers.Flatten(),\n",
    "    tf.keras.layers.Dense(units=128, activation=leaky_relu,\n",
    "                          kernel_initializer=\"he_normal\"),\n",
    "    tf.keras.layers.Dropout(0.5),\n",
    "    tf.keras.layers.Dense(units=64, activation=leaky_relu,\n",
    "                          kernel_initializer=\"he_normal\"),\n",
    "    tf.keras.layers.Dropout(0.5),\n",
    "    tf.keras.layers.Dense(units=4, activation=\"softmax\")\n",
    "])"
   ]
  },
  {
   "cell_type": "code",
   "execution_count": 17,
   "id": "3db88c7c",
   "metadata": {
    "execution": {
     "iopub.execute_input": "2023-11-24T16:58:16.858244Z",
     "iopub.status.busy": "2023-11-24T16:58:16.857880Z",
     "iopub.status.idle": "2023-11-24T17:11:26.073609Z",
     "shell.execute_reply": "2023-11-24T17:11:26.072781Z"
    },
    "papermill": {
     "duration": 789.227148,
     "end_time": "2023-11-24T17:11:26.075793",
     "exception": false,
     "start_time": "2023-11-24T16:58:16.848645",
     "status": "completed"
    },
    "tags": []
   },
   "outputs": [
    {
     "name": "stdout",
     "output_type": "stream",
     "text": [
      "Epoch 1/15\n",
      "202/202 [==============================] - 72s 265ms/step - loss: 324.8330 - accuracy: 0.2867 - val_loss: 5.0219 - val_accuracy: 0.3147\n",
      "Epoch 2/15\n",
      "202/202 [==============================] - 50s 250ms/step - loss: 9.1975 - accuracy: 0.2934 - val_loss: 2.1379 - val_accuracy: 0.3172\n",
      "Epoch 3/15\n",
      "202/202 [==============================] - 52s 256ms/step - loss: 6.1266 - accuracy: 0.3073 - val_loss: 2.7184 - val_accuracy: 0.3154\n",
      "Epoch 4/15\n",
      "202/202 [==============================] - 52s 256ms/step - loss: 4.2498 - accuracy: 0.3231 - val_loss: 2.0197 - val_accuracy: 0.3055\n",
      "Epoch 5/15\n",
      "202/202 [==============================] - 52s 256ms/step - loss: 3.2455 - accuracy: 0.3327 - val_loss: 1.5725 - val_accuracy: 0.3129\n",
      "Epoch 6/15\n",
      "202/202 [==============================] - 52s 257ms/step - loss: 2.5449 - accuracy: 0.3598 - val_loss: 1.3892 - val_accuracy: 0.3141\n",
      "Epoch 7/15\n",
      "202/202 [==============================] - 52s 258ms/step - loss: 2.1113 - accuracy: 0.3811 - val_loss: 1.6148 - val_accuracy: 0.3079\n",
      "Epoch 8/15\n",
      "202/202 [==============================] - 51s 254ms/step - loss: 947693.8125 - accuracy: 0.3490 - val_loss: 25572.7402 - val_accuracy: 0.3129\n",
      "Epoch 9/15\n",
      "202/202 [==============================] - 51s 250ms/step - loss: 21907.3223 - accuracy: 0.2991 - val_loss: 6930.3320 - val_accuracy: 0.3271\n",
      "Epoch 10/15\n",
      "202/202 [==============================] - 50s 250ms/step - loss: 7239.3896 - accuracy: 0.2913 - val_loss: 8271.4639 - val_accuracy: 0.3302\n",
      "Epoch 11/15\n",
      "202/202 [==============================] - 50s 249ms/step - loss: 6151.1060 - accuracy: 0.2870 - val_loss: 719.0778 - val_accuracy: 0.3172\n",
      "Epoch 12/15\n",
      "202/202 [==============================] - 51s 250ms/step - loss: 3050.3494 - accuracy: 0.2937 - val_loss: 1336.8107 - val_accuracy: 0.3253\n",
      "Epoch 13/15\n",
      "202/202 [==============================] - 51s 250ms/step - loss: 2065.5142 - accuracy: 0.2955 - val_loss: 350.1665 - val_accuracy: 0.3178\n",
      "Epoch 14/15\n",
      "202/202 [==============================] - 51s 251ms/step - loss: 1994.0426 - accuracy: 0.2836 - val_loss: 1269.5840 - val_accuracy: 0.3141\n",
      "Epoch 15/15\n",
      "202/202 [==============================] - 51s 250ms/step - loss: 1764.5417 - accuracy: 0.2890 - val_loss: 710.9691 - val_accuracy: 0.3141\n"
     ]
    }
   ],
   "source": [
    "model.compile(loss=\"sparse_categorical_crossentropy\", optimizer=\"nadam\",\n",
    "              metrics=[\"accuracy\"])\n",
    "history = model.fit(X_train, y_train, epochs=15,\n",
    "                    validation_data=(X_valid, y_valid))"
   ]
  },
  {
   "cell_type": "code",
   "execution_count": 18,
   "id": "7b8c184e",
   "metadata": {
    "execution": {
     "iopub.execute_input": "2023-11-24T17:11:26.596443Z",
     "iopub.status.busy": "2023-11-24T17:11:26.595483Z",
     "iopub.status.idle": "2023-11-24T17:11:26.605077Z",
     "shell.execute_reply": "2023-11-24T17:11:26.604189Z"
    },
    "papermill": {
     "duration": 0.273202,
     "end_time": "2023-11-24T17:11:26.607101",
     "exception": false,
     "start_time": "2023-11-24T17:11:26.333899",
     "status": "completed"
    },
    "tags": []
   },
   "outputs": [],
   "source": [
    "DefaultConv2D = partial(tf.keras.layers.Conv2D, kernel_size=3, strides=1,\n",
    "                        padding=\"same\", kernel_initializer=\"he_normal\",\n",
    "                        use_bias=False)\n",
    "\n",
    "class ResidualUnit(tf.keras.layers.Layer):\n",
    "    def __init__(self, filters, strides=1, activation=leaky_relu, **kwargs):\n",
    "        super().__init__(**kwargs)\n",
    "        self.activation = tf.keras.activations.get(activation)\n",
    "        self.main_layers = [\n",
    "            DefaultConv2D(filters, strides=strides),\n",
    "            tf.keras.layers.BatchNormalization(),\n",
    "            self.activation,\n",
    "            DefaultConv2D(filters),\n",
    "            tf.keras.layers.BatchNormalization()\n",
    "        ]\n",
    "        self.skip_layers = []\n",
    "        if strides > 1:\n",
    "            self.skip_layers = [\n",
    "                DefaultConv2D(filters, kernel_size=1, strides=strides),\n",
    "                tf.keras.layers.BatchNormalization()\n",
    "            ]\n",
    "\n",
    "    def call(self, inputs):\n",
    "        Z = inputs\n",
    "        for layer in self.main_layers:\n",
    "            Z = layer(Z)\n",
    "        skip_Z = inputs\n",
    "        for layer in self.skip_layers:\n",
    "            skip_Z = layer(skip_Z)\n",
    "        return self.activation(Z + skip_Z)"
   ]
  },
  {
   "cell_type": "code",
   "execution_count": 19,
   "id": "4ff0e45f",
   "metadata": {
    "execution": {
     "iopub.execute_input": "2023-11-24T17:11:27.139793Z",
     "iopub.status.busy": "2023-11-24T17:11:27.139377Z",
     "iopub.status.idle": "2023-11-24T17:11:28.049217Z",
     "shell.execute_reply": "2023-11-24T17:11:28.048393Z"
    },
    "papermill": {
     "duration": 1.187288,
     "end_time": "2023-11-24T17:11:28.051550",
     "exception": false,
     "start_time": "2023-11-24T17:11:26.864262",
     "status": "completed"
    },
    "tags": []
   },
   "outputs": [],
   "source": [
    "tf.random.set_seed(42)\n",
    "tf.keras.backend.clear_session()\n",
    "\n",
    "model = tf.keras.Sequential([\n",
    "    DefaultConv2D(64, kernel_size=7, strides=2, input_shape=[224,224, 3]),\n",
    "    tf.keras.layers.BatchNormalization(),\n",
    "    tf.keras.layers.Activation(leaky_relu),\n",
    "    tf.keras.layers.MaxPool2D(pool_size=3, strides=2, padding=\"same\"),\n",
    "])\n",
    "\n",
    "residual_blocks = [3, 4, 6, 3]  # ResNet-50 configuration\n",
    "\n",
    "prev_filters = 64\n",
    "for filters, blocks in zip([64, 128, 256, 512], residual_blocks):\n",
    "    for _ in range(blocks):\n",
    "        if filters != prev_filters:\n",
    "            strides = 2\n",
    "        else:\n",
    "            strides = 1\n",
    "        model.add(ResidualUnit(filters, strides=strides))\n",
    "        prev_filters = filters\n",
    "\n",
    "model.add(tf.keras.layers.GlobalAveragePooling2D())\n",
    "model.add(tf.keras.layers.Dense(4, activation=\"softmax\"))"
   ]
  },
  {
   "cell_type": "code",
   "execution_count": 20,
   "id": "f4edf26f",
   "metadata": {
    "execution": {
     "iopub.execute_input": "2023-11-24T17:11:28.575099Z",
     "iopub.status.busy": "2023-11-24T17:11:28.574669Z",
     "iopub.status.idle": "2023-11-24T17:22:04.863033Z",
     "shell.execute_reply": "2023-11-24T17:22:04.862164Z"
    },
    "papermill": {
     "duration": 636.556942,
     "end_time": "2023-11-24T17:22:04.865395",
     "exception": false,
     "start_time": "2023-11-24T17:11:28.308453",
     "status": "completed"
    },
    "tags": []
   },
   "outputs": [
    {
     "name": "stdout",
     "output_type": "stream",
     "text": [
      "Epoch 1/15\n",
      "202/202 [==============================] - 76s 215ms/step - loss: 1.4495 - accuracy: 0.3161 - val_loss: 2.8378 - val_accuracy: 0.3191\n",
      "Epoch 2/15\n",
      "202/202 [==============================] - 40s 197ms/step - loss: 1.3185 - accuracy: 0.3119 - val_loss: 3.6317 - val_accuracy: 0.3222\n",
      "Epoch 3/15\n",
      "202/202 [==============================] - 40s 198ms/step - loss: 1.3155 - accuracy: 0.3003 - val_loss: 1.3289 - val_accuracy: 0.3123\n",
      "Epoch 4/15\n",
      "202/202 [==============================] - 40s 197ms/step - loss: 1.3153 - accuracy: 0.3143 - val_loss: 1.2830 - val_accuracy: 0.3203\n",
      "Epoch 5/15\n",
      "202/202 [==============================] - 40s 198ms/step - loss: 1.3094 - accuracy: 0.3161 - val_loss: 1.3286 - val_accuracy: 0.3141\n",
      "Epoch 6/15\n",
      "202/202 [==============================] - 40s 197ms/step - loss: 1.3056 - accuracy: 0.3178 - val_loss: 1.3051 - val_accuracy: 0.3011\n",
      "Epoch 7/15\n",
      "202/202 [==============================] - 40s 197ms/step - loss: 1.3038 - accuracy: 0.3119 - val_loss: 1.6202 - val_accuracy: 0.3253\n",
      "Epoch 8/15\n",
      "202/202 [==============================] - 40s 197ms/step - loss: 1.3042 - accuracy: 0.3195 - val_loss: 1.3428 - val_accuracy: 0.3234\n",
      "Epoch 9/15\n",
      "202/202 [==============================] - 40s 198ms/step - loss: 1.3007 - accuracy: 0.3098 - val_loss: 1.2697 - val_accuracy: 0.3147\n",
      "Epoch 10/15\n",
      "202/202 [==============================] - 40s 197ms/step - loss: 1.3015 - accuracy: 0.3154 - val_loss: 1.3332 - val_accuracy: 0.3178\n",
      "Epoch 11/15\n",
      "202/202 [==============================] - 40s 197ms/step - loss: 1.3039 - accuracy: 0.3102 - val_loss: 2.7956 - val_accuracy: 0.3129\n",
      "Epoch 12/15\n",
      "202/202 [==============================] - 40s 197ms/step - loss: 1.3014 - accuracy: 0.3070 - val_loss: 1.3222 - val_accuracy: 0.3154\n",
      "Epoch 13/15\n",
      "202/202 [==============================] - 40s 197ms/step - loss: 1.3004 - accuracy: 0.3144 - val_loss: 1.3144 - val_accuracy: 0.3203\n",
      "Epoch 14/15\n",
      "202/202 [==============================] - 40s 197ms/step - loss: 1.3025 - accuracy: 0.3146 - val_loss: 1.5373 - val_accuracy: 0.2993\n",
      "Epoch 15/15\n",
      "202/202 [==============================] - 40s 197ms/step - loss: 1.2997 - accuracy: 0.3177 - val_loss: 1.2772 - val_accuracy: 0.3098\n"
     ]
    }
   ],
   "source": [
    "model.compile(loss=\"sparse_categorical_crossentropy\", optimizer=\"nadam\",\n",
    "              metrics=[\"accuracy\"])\n",
    "history = model.fit(X_train, y_train, epochs=15,\n",
    "                    validation_data=(X_valid, y_valid))"
   ]
  },
  {
   "cell_type": "code",
   "execution_count": 21,
   "id": "6f72ace7",
   "metadata": {
    "execution": {
     "iopub.execute_input": "2023-11-24T17:22:05.883488Z",
     "iopub.status.busy": "2023-11-24T17:22:05.883110Z",
     "iopub.status.idle": "2023-11-24T17:22:08.331703Z",
     "shell.execute_reply": "2023-11-24T17:22:08.330804Z"
    },
    "papermill": {
     "duration": 2.960807,
     "end_time": "2023-11-24T17:22:08.334098",
     "exception": false,
     "start_time": "2023-11-24T17:22:05.373291",
     "status": "completed"
    },
    "tags": []
   },
   "outputs": [
    {
     "name": "stdout",
     "output_type": "stream",
     "text": [
      "Downloading data from https://storage.googleapis.com/tensorflow/keras-applications/xception/xception_weights_tf_dim_ordering_tf_kernels_notop.h5\n",
      "83683744/83683744 [==============================] - 1s 0us/step\n"
     ]
    }
   ],
   "source": [
    "tf.random.set_seed(42)\n",
    "tf.keras.backend.clear_session()\n",
    "\n",
    "base_model = tf.keras.applications.xception.Xception(weights=\"imagenet\",\n",
    "                                                     include_top=False)\n",
    "avg = tf.keras.layers.GlobalAveragePooling2D()(base_model.output)\n",
    "output = tf.keras.layers.Dense(4, activation=\"softmax\")(avg)\n",
    "model = tf.keras.Model(inputs=base_model.input, outputs=output)"
   ]
  },
  {
   "cell_type": "code",
   "execution_count": 22,
   "id": "1c6a4523",
   "metadata": {
    "execution": {
     "iopub.execute_input": "2023-11-24T17:22:09.397413Z",
     "iopub.status.busy": "2023-11-24T17:22:09.396792Z",
     "iopub.status.idle": "2023-11-24T17:22:09.406526Z",
     "shell.execute_reply": "2023-11-24T17:22:09.405621Z"
    },
    "papermill": {
     "duration": 0.514973,
     "end_time": "2023-11-24T17:22:09.408551",
     "exception": false,
     "start_time": "2023-11-24T17:22:08.893578",
     "status": "completed"
    },
    "tags": []
   },
   "outputs": [],
   "source": [
    "for layer in base_model.layers:\n",
    "    layer.trainable = False"
   ]
  },
  {
   "cell_type": "code",
   "execution_count": 23,
   "id": "2ad3ad69",
   "metadata": {
    "execution": {
     "iopub.execute_input": "2023-11-24T17:22:10.430813Z",
     "iopub.status.busy": "2023-11-24T17:22:10.430331Z",
     "iopub.status.idle": "2023-11-24T17:25:12.586224Z",
     "shell.execute_reply": "2023-11-24T17:25:12.585287Z"
    },
    "papermill": {
     "duration": 182.678117,
     "end_time": "2023-11-24T17:25:12.588555",
     "exception": false,
     "start_time": "2023-11-24T17:22:09.910438",
     "status": "completed"
    },
    "tags": []
   },
   "outputs": [
    {
     "name": "stdout",
     "output_type": "stream",
     "text": [
      "Epoch 1/5\n",
      "202/202 [==============================] - 43s 190ms/step - loss: 16836.2676 - accuracy: 0.2969 - val_loss: 12701.3232 - val_accuracy: 0.2993\n",
      "Epoch 2/5\n",
      "202/202 [==============================] - 34s 170ms/step - loss: 21265.8672 - accuracy: 0.2930 - val_loss: 15817.6484 - val_accuracy: 0.3055\n",
      "Epoch 3/5\n",
      "202/202 [==============================] - 34s 169ms/step - loss: 21664.6562 - accuracy: 0.2954 - val_loss: 29984.6113 - val_accuracy: 0.3055\n",
      "Epoch 4/5\n",
      "202/202 [==============================] - 34s 171ms/step - loss: 17434.5605 - accuracy: 0.3051 - val_loss: 36243.2500 - val_accuracy: 0.3123\n",
      "Epoch 5/5\n",
      "202/202 [==============================] - 34s 170ms/step - loss: 23789.9043 - accuracy: 0.3160 - val_loss: 53137.6211 - val_accuracy: 0.3141\n"
     ]
    }
   ],
   "source": [
    "optimizer = tf.keras.optimizers.SGD(learning_rate=0.1, momentum=0.9)\n",
    "model.compile(loss=\"sparse_categorical_crossentropy\", optimizer=optimizer,\n",
    "              metrics=[\"accuracy\"])\n",
    "history = model.fit(X_train, y_train, epochs=5,\n",
    "                    validation_data=(X_valid, y_valid))"
   ]
  },
  {
   "cell_type": "code",
   "execution_count": 24,
   "id": "97aa645b",
   "metadata": {
    "execution": {
     "iopub.execute_input": "2023-11-24T17:25:13.849655Z",
     "iopub.status.busy": "2023-11-24T17:25:13.849233Z",
     "iopub.status.idle": "2023-11-24T17:25:13.883606Z",
     "shell.execute_reply": "2023-11-24T17:25:13.882653Z"
    },
    "papermill": {
     "duration": 0.629335,
     "end_time": "2023-11-24T17:25:13.885700",
     "exception": false,
     "start_time": "2023-11-24T17:25:13.256365",
     "status": "completed"
    },
    "tags": []
   },
   "outputs": [
    {
     "name": "stdout",
     "output_type": "stream",
     "text": [
      "  0: input_1                33: block4_pool            66: block8_sepconv1_act    99: block11_sepconv2_act  \n",
      "  1: block1_conv1           34: batch_normalization_2  67: block8_sepconv1       100: block11_sepconv2      \n",
      "  2: block1_conv1_bn        35: add_2                  68: block8_sepconv1_bn    101: block11_sepconv2_bn   \n",
      "  3: block1_conv1_act       36: block5_sepconv1_act    69: block8_sepconv2_act   102: block11_sepconv3_act  \n",
      "  4: block1_conv2           37: block5_sepconv1        70: block8_sepconv2       103: block11_sepconv3      \n",
      "  5: block1_conv2_bn        38: block5_sepconv1_bn     71: block8_sepconv2_bn    104: block11_sepconv3_bn   \n",
      "  6: block1_conv2_act       39: block5_sepconv2_act    72: block8_sepconv3_act   105: add_9                 \n",
      "  7: block2_sepconv1        40: block5_sepconv2        73: block8_sepconv3       106: block12_sepconv1_act  \n",
      "  8: block2_sepconv1_bn     41: block5_sepconv2_bn     74: block8_sepconv3_bn    107: block12_sepconv1      \n",
      "  9: block2_sepconv2_act    42: block5_sepconv3_act    75: add_6                 108: block12_sepconv1_bn   \n",
      " 10: block2_sepconv2        43: block5_sepconv3        76: block9_sepconv1_act   109: block12_sepconv2_act  \n",
      " 11: block2_sepconv2_bn     44: block5_sepconv3_bn     77: block9_sepconv1       110: block12_sepconv2      \n",
      " 12: conv2d                 45: add_3                  78: block9_sepconv1_bn    111: block12_sepconv2_bn   \n",
      " 13: block2_pool            46: block6_sepconv1_act    79: block9_sepconv2_act   112: block12_sepconv3_act  \n",
      " 14: batch_normalization    47: block6_sepconv1        80: block9_sepconv2       113: block12_sepconv3      \n",
      " 15: add                    48: block6_sepconv1_bn     81: block9_sepconv2_bn    114: block12_sepconv3_bn   \n",
      " 16: block3_sepconv1_act    49: block6_sepconv2_act    82: block9_sepconv3_act   115: add_10                \n",
      " 17: block3_sepconv1        50: block6_sepconv2        83: block9_sepconv3       116: block13_sepconv1_act  \n",
      " 18: block3_sepconv1_bn     51: block6_sepconv2_bn     84: block9_sepconv3_bn    117: block13_sepconv1      \n",
      " 19: block3_sepconv2_act    52: block6_sepconv3_act    85: add_7                 118: block13_sepconv1_bn   \n",
      " 20: block3_sepconv2        53: block6_sepconv3        86: block10_sepconv1_act  119: block13_sepconv2_act  \n",
      " 21: block3_sepconv2_bn     54: block6_sepconv3_bn     87: block10_sepconv1      120: block13_sepconv2      \n",
      " 22: conv2d_1               55: add_4                  88: block10_sepconv1_bn   121: block13_sepconv2_bn   \n",
      " 23: block3_pool            56: block7_sepconv1_act    89: block10_sepconv2_act  122: conv2d_3              \n",
      " 24: batch_normalization_1  57: block7_sepconv1        90: block10_sepconv2      123: block13_pool          \n",
      " 25: add_1                  58: block7_sepconv1_bn     91: block10_sepconv2_bn   124: batch_normalization_3 \n",
      " 26: block4_sepconv1_act    59: block7_sepconv2_act    92: block10_sepconv3_act  125: add_11                \n",
      " 27: block4_sepconv1        60: block7_sepconv2        93: block10_sepconv3      126: block14_sepconv1      \n",
      " 28: block4_sepconv1_bn     61: block7_sepconv2_bn     94: block10_sepconv3_bn   127: block14_sepconv1_bn   \n",
      " 29: block4_sepconv2_act    62: block7_sepconv3_act    95: add_8                 128: block14_sepconv1_act  \n",
      " 30: block4_sepconv2        63: block7_sepconv3        96: block11_sepconv1_act  129: block14_sepconv2      \n",
      " 31: block4_sepconv2_bn     64: block7_sepconv3_bn     97: block11_sepconv1      130: block14_sepconv2_bn   \n",
      " 32: conv2d_2               65: add_5                  98: block11_sepconv1_bn   131: block14_sepconv2_act  \n"
     ]
    }
   ],
   "source": [
    "for indices in zip(range(33), range(33, 66), range(66, 99), range(99, 132)):\n",
    "    for idx in indices:\n",
    "        print(f\"{idx:3}: {base_model.layers[idx].name:22}\", end=\"\")\n",
    "    print()"
   ]
  },
  {
   "cell_type": "code",
   "execution_count": 25,
   "id": "1aba1e65",
   "metadata": {
    "execution": {
     "iopub.execute_input": "2023-11-24T17:25:15.061950Z",
     "iopub.status.busy": "2023-11-24T17:25:15.061599Z",
     "iopub.status.idle": "2023-11-24T17:41:16.696473Z",
     "shell.execute_reply": "2023-11-24T17:41:16.695552Z"
    },
    "papermill": {
     "duration": 963.049086,
     "end_time": "2023-11-24T17:41:17.522029",
     "exception": false,
     "start_time": "2023-11-24T17:25:14.472943",
     "status": "completed"
    },
    "tags": []
   },
   "outputs": [
    {
     "name": "stdout",
     "output_type": "stream",
     "text": [
      "Epoch 1/15\n",
      "202/202 [==============================] - 78s 337ms/step - loss: 4.5336 - accuracy: 0.3240 - val_loss: 1.3752 - val_accuracy: 0.3222\n",
      "Epoch 2/15\n",
      "202/202 [==============================] - 65s 321ms/step - loss: 1.2790 - accuracy: 0.3219 - val_loss: 1.2605 - val_accuracy: 0.3203\n",
      "Epoch 3/15\n",
      "202/202 [==============================] - 64s 316ms/step - loss: 1.2788 - accuracy: 0.3251 - val_loss: 1.2611 - val_accuracy: 0.3061\n",
      "Epoch 4/15\n",
      "202/202 [==============================] - 63s 313ms/step - loss: 1.2790 - accuracy: 0.3253 - val_loss: 1.2597 - val_accuracy: 0.3209\n",
      "Epoch 5/15\n",
      "202/202 [==============================] - 63s 314ms/step - loss: 1.2787 - accuracy: 0.3268 - val_loss: 1.2593 - val_accuracy: 0.3067\n",
      "Epoch 6/15\n",
      "202/202 [==============================] - 63s 311ms/step - loss: 1.2784 - accuracy: 0.3216 - val_loss: 1.2595 - val_accuracy: 0.3209\n",
      "Epoch 7/15\n",
      "202/202 [==============================] - 63s 310ms/step - loss: 1.2788 - accuracy: 0.3234 - val_loss: 1.2603 - val_accuracy: 0.3203\n",
      "Epoch 8/15\n",
      "202/202 [==============================] - 63s 310ms/step - loss: 1.2785 - accuracy: 0.3253 - val_loss: 1.2603 - val_accuracy: 0.3209\n",
      "Epoch 9/15\n",
      "202/202 [==============================] - 63s 311ms/step - loss: 1.2785 - accuracy: 0.3203 - val_loss: 1.2593 - val_accuracy: 0.3203\n",
      "Epoch 10/15\n",
      "202/202 [==============================] - 63s 311ms/step - loss: 1.2787 - accuracy: 0.3243 - val_loss: 1.2615 - val_accuracy: 0.3209\n",
      "Epoch 11/15\n",
      "202/202 [==============================] - 62s 310ms/step - loss: 1.2786 - accuracy: 0.3268 - val_loss: 1.2598 - val_accuracy: 0.3203\n",
      "Epoch 12/15\n",
      "202/202 [==============================] - 62s 309ms/step - loss: 1.2785 - accuracy: 0.3183 - val_loss: 1.2593 - val_accuracy: 0.3203\n",
      "Epoch 13/15\n",
      "202/202 [==============================] - 62s 309ms/step - loss: 1.2784 - accuracy: 0.3274 - val_loss: 1.2586 - val_accuracy: 0.3222\n",
      "Epoch 14/15\n",
      "202/202 [==============================] - 63s 311ms/step - loss: 1.2788 - accuracy: 0.3216 - val_loss: 1.2615 - val_accuracy: 0.3209\n",
      "Epoch 15/15\n",
      "202/202 [==============================] - 63s 311ms/step - loss: 1.2790 - accuracy: 0.3199 - val_loss: 1.2597 - val_accuracy: 0.3209\n"
     ]
    }
   ],
   "source": [
    "for layer in base_model.layers[56:]:\n",
    "    layer.trainable = True\n",
    "\n",
    "optimizer = tf.keras.optimizers.SGD(learning_rate=0.01, momentum=0.9)\n",
    "model.compile(loss=\"sparse_categorical_crossentropy\", optimizer=optimizer,\n",
    "              metrics=[\"accuracy\"])\n",
    "history = model.fit(X_train, y_train, epochs=15,\n",
    "                    validation_data=(X_valid, y_valid))"
   ]
  }
 ],
 "metadata": {
  "kaggle": {
   "accelerator": "nvidiaTeslaT4",
   "dataSources": [
    {
     "datasetId": 2051125,
     "sourceId": 3402697,
     "sourceType": "datasetVersion"
    }
   ],
   "dockerImageVersionId": 30588,
   "isGpuEnabled": true,
   "isInternetEnabled": true,
   "language": "python",
   "sourceType": "notebook"
  },
  "kernelspec": {
   "display_name": "Python 3",
   "language": "python",
   "name": "python3"
  },
  "language_info": {
   "codemirror_mode": {
    "name": "ipython",
    "version": 3
   },
   "file_extension": ".py",
   "mimetype": "text/x-python",
   "name": "python",
   "nbconvert_exporter": "python",
   "pygments_lexer": "ipython3",
   "version": "3.10.12"
  },
  "papermill": {
   "default_parameters": {},
   "duration": 2695.504169,
   "end_time": "2023-11-24T17:41:21.687367",
   "environment_variables": {},
   "exception": null,
   "input_path": "__notebook__.ipynb",
   "output_path": "__notebook__.ipynb",
   "parameters": {},
   "start_time": "2023-11-24T16:56:26.183198",
   "version": "2.4.0"
  }
 },
 "nbformat": 4,
 "nbformat_minor": 5
}
